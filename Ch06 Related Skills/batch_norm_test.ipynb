{
 "cells": [
  {
   "cell_type": "code",
   "execution_count": 1,
   "metadata": {},
   "outputs": [
    {
     "name": "stdout",
     "output_type": "stream",
     "text": [
      "============== 1/16 ==============\n",
      "epoch:0 | 0.117 - 0.092\n"
     ]
    },
    {
     "name": "stderr",
     "output_type": "stream",
     "text": [
      "C:\\Users\\jkimj\\Ch 06\\common\\multi_layer_net_extend.py:104: RuntimeWarning: overflow encountered in square\n",
      "  weight_decay += 0.5 * self.weight_decay_lambda * np.sum(W**2)\n",
      "C:\\Users\\jkimj\\Ch 06\\common\\multi_layer_net_extend.py:104: RuntimeWarning: invalid value encountered in double_scalars\n",
      "  weight_decay += 0.5 * self.weight_decay_lambda * np.sum(W**2)\n"
     ]
    },
    {
     "name": "stdout",
     "output_type": "stream",
     "text": [
      "epoch:1 | 0.097 - 0.089\n",
      "epoch:2 | 0.097 - 0.11\n",
      "epoch:3 | 0.097 - 0.129\n",
      "epoch:4 | 0.097 - 0.137\n",
      "epoch:5 | 0.097 - 0.16\n",
      "epoch:6 | 0.097 - 0.179\n",
      "epoch:7 | 0.097 - 0.197\n",
      "epoch:8 | 0.097 - 0.21\n",
      "epoch:9 | 0.097 - 0.208\n",
      "epoch:10 | 0.097 - 0.245\n",
      "epoch:11 | 0.097 - 0.249\n",
      "epoch:12 | 0.097 - 0.264\n",
      "epoch:13 | 0.097 - 0.297\n",
      "epoch:14 | 0.097 - 0.316\n",
      "epoch:15 | 0.097 - 0.342\n",
      "epoch:16 | 0.097 - 0.35\n",
      "epoch:17 | 0.097 - 0.369\n",
      "epoch:18 | 0.097 - 0.393\n"
     ]
    },
    {
     "name": "stderr",
     "output_type": "stream",
     "text": [
      "No handles with labels found to put in legend.\n"
     ]
    },
    {
     "name": "stdout",
     "output_type": "stream",
     "text": [
      "epoch:19 | 0.097 - 0.398\n",
      "============== 2/16 ==============\n",
      "epoch:0 | 0.092 - 0.097\n"
     ]
    },
    {
     "name": "stderr",
     "output_type": "stream",
     "text": [
      "C:\\Users\\jkimj\\Ch 06\\common\\multi_layer_net_extend.py:104: RuntimeWarning: overflow encountered in square\n",
      "  weight_decay += 0.5 * self.weight_decay_lambda * np.sum(W**2)\n",
      "C:\\Users\\jkimj\\Ch 06\\common\\multi_layer_net_extend.py:104: RuntimeWarning: invalid value encountered in double_scalars\n",
      "  weight_decay += 0.5 * self.weight_decay_lambda * np.sum(W**2)\n"
     ]
    },
    {
     "name": "stdout",
     "output_type": "stream",
     "text": [
      "epoch:1 | 0.097 - 0.117\n",
      "epoch:2 | 0.097 - 0.12\n",
      "epoch:3 | 0.097 - 0.129\n",
      "epoch:4 | 0.097 - 0.154\n",
      "epoch:5 | 0.097 - 0.169\n",
      "epoch:6 | 0.097 - 0.195\n",
      "epoch:7 | 0.097 - 0.223\n",
      "epoch:8 | 0.097 - 0.244\n",
      "epoch:9 | 0.097 - 0.26\n",
      "epoch:10 | 0.097 - 0.283\n",
      "epoch:11 | 0.097 - 0.312\n",
      "epoch:12 | 0.097 - 0.324\n",
      "epoch:13 | 0.097 - 0.344\n",
      "epoch:14 | 0.097 - 0.371\n",
      "epoch:15 | 0.097 - 0.392\n",
      "epoch:16 | 0.097 - 0.407\n",
      "epoch:17 | 0.097 - 0.419\n",
      "epoch:18 | 0.097 - 0.436\n"
     ]
    },
    {
     "name": "stderr",
     "output_type": "stream",
     "text": [
      "No handles with labels found to put in legend.\n"
     ]
    },
    {
     "name": "stdout",
     "output_type": "stream",
     "text": [
      "epoch:19 | 0.097 - 0.458\n",
      "============== 3/16 ==============\n",
      "epoch:0 | 0.103 - 0.095\n",
      "epoch:1 | 0.298 - 0.116\n",
      "epoch:2 | 0.438 - 0.154\n",
      "epoch:3 | 0.563 - 0.198\n",
      "epoch:4 | 0.635 - 0.242\n",
      "epoch:5 | 0.675 - 0.273\n",
      "epoch:6 | 0.725 - 0.327\n",
      "epoch:7 | 0.763 - 0.37\n",
      "epoch:8 | 0.801 - 0.409\n",
      "epoch:9 | 0.831 - 0.45\n",
      "epoch:10 | 0.842 - 0.481\n",
      "epoch:11 | 0.873 - 0.505\n",
      "epoch:12 | 0.895 - 0.527\n",
      "epoch:13 | 0.912 - 0.554\n",
      "epoch:14 | 0.923 - 0.574\n",
      "epoch:15 | 0.933 - 0.6\n",
      "epoch:16 | 0.948 - 0.619\n",
      "epoch:17 | 0.96 - 0.635\n",
      "epoch:18 | 0.963 - 0.65\n"
     ]
    },
    {
     "name": "stderr",
     "output_type": "stream",
     "text": [
      "No handles with labels found to put in legend.\n"
     ]
    },
    {
     "name": "stdout",
     "output_type": "stream",
     "text": [
      "epoch:19 | 0.97 - 0.66\n",
      "============== 4/16 ==============\n",
      "epoch:0 | 0.116 - 0.116\n",
      "epoch:1 | 0.277 - 0.128\n",
      "epoch:2 | 0.44 - 0.167\n",
      "epoch:3 | 0.543 - 0.23\n",
      "epoch:4 | 0.588 - 0.29\n",
      "epoch:5 | 0.633 - 0.338\n",
      "epoch:6 | 0.674 - 0.397\n",
      "epoch:7 | 0.715 - 0.456\n",
      "epoch:8 | 0.738 - 0.501\n",
      "epoch:9 | 0.757 - 0.541\n",
      "epoch:10 | 0.774 - 0.582\n",
      "epoch:11 | 0.788 - 0.617\n",
      "epoch:12 | 0.796 - 0.653\n",
      "epoch:13 | 0.81 - 0.672\n",
      "epoch:14 | 0.834 - 0.706\n",
      "epoch:15 | 0.821 - 0.727\n",
      "epoch:16 | 0.844 - 0.74\n",
      "epoch:17 | 0.844 - 0.759\n",
      "epoch:18 | 0.865 - 0.769\n"
     ]
    },
    {
     "name": "stderr",
     "output_type": "stream",
     "text": [
      "No handles with labels found to put in legend.\n"
     ]
    },
    {
     "name": "stdout",
     "output_type": "stream",
     "text": [
      "epoch:19 | 0.867 - 0.784\n",
      "============== 5/16 ==============\n",
      "epoch:0 | 0.136 - 0.09\n",
      "epoch:1 | 0.132 - 0.119\n",
      "epoch:2 | 0.141 - 0.24\n",
      "epoch:3 | 0.145 - 0.383\n",
      "epoch:4 | 0.153 - 0.499\n",
      "epoch:5 | 0.154 - 0.574\n",
      "epoch:6 | 0.159 - 0.647\n",
      "epoch:7 | 0.168 - 0.696\n",
      "epoch:8 | 0.18 - 0.731\n",
      "epoch:9 | 0.189 - 0.762\n",
      "epoch:10 | 0.2 - 0.783\n",
      "epoch:11 | 0.222 - 0.797\n",
      "epoch:12 | 0.23 - 0.815\n",
      "epoch:13 | 0.246 - 0.829\n",
      "epoch:14 | 0.243 - 0.833\n",
      "epoch:15 | 0.248 - 0.846\n",
      "epoch:16 | 0.255 - 0.856\n",
      "epoch:17 | 0.262 - 0.863\n",
      "epoch:18 | 0.27 - 0.867\n"
     ]
    },
    {
     "name": "stderr",
     "output_type": "stream",
     "text": [
      "No handles with labels found to put in legend.\n"
     ]
    },
    {
     "name": "stdout",
     "output_type": "stream",
     "text": [
      "epoch:19 | 0.278 - 0.873\n",
      "============== 6/16 ==============\n",
      "epoch:0 | 0.087 - 0.108\n",
      "epoch:1 | 0.118 - 0.214\n",
      "epoch:2 | 0.117 - 0.436\n",
      "epoch:3 | 0.117 - 0.605\n",
      "epoch:4 | 0.117 - 0.678\n",
      "epoch:5 | 0.117 - 0.73\n",
      "epoch:6 | 0.117 - 0.766\n",
      "epoch:7 | 0.117 - 0.788\n",
      "epoch:8 | 0.117 - 0.804\n",
      "epoch:9 | 0.117 - 0.839\n",
      "epoch:10 | 0.117 - 0.857\n",
      "epoch:11 | 0.117 - 0.872\n",
      "epoch:12 | 0.117 - 0.892\n",
      "epoch:13 | 0.117 - 0.897\n",
      "epoch:14 | 0.117 - 0.902\n",
      "epoch:15 | 0.117 - 0.914\n",
      "epoch:16 | 0.117 - 0.92\n",
      "epoch:17 | 0.117 - 0.925\n",
      "epoch:18 | 0.117 - 0.933\n"
     ]
    },
    {
     "name": "stderr",
     "output_type": "stream",
     "text": [
      "No handles with labels found to put in legend.\n"
     ]
    },
    {
     "name": "stdout",
     "output_type": "stream",
     "text": [
      "epoch:19 | 0.117 - 0.945\n",
      "============== 7/16 ==============\n",
      "epoch:0 | 0.117 - 0.097\n",
      "epoch:1 | 0.12 - 0.297\n",
      "epoch:2 | 0.117 - 0.533\n",
      "epoch:3 | 0.117 - 0.695\n",
      "epoch:4 | 0.117 - 0.775\n",
      "epoch:5 | 0.116 - 0.819\n",
      "epoch:6 | 0.116 - 0.86\n",
      "epoch:7 | 0.116 - 0.889\n",
      "epoch:8 | 0.116 - 0.91\n",
      "epoch:9 | 0.116 - 0.916\n",
      "epoch:10 | 0.116 - 0.927\n",
      "epoch:11 | 0.174 - 0.935\n",
      "epoch:12 | 0.116 - 0.937\n",
      "epoch:13 | 0.117 - 0.95\n",
      "epoch:14 | 0.117 - 0.957\n",
      "epoch:15 | 0.117 - 0.966\n",
      "epoch:16 | 0.117 - 0.97\n",
      "epoch:17 | 0.117 - 0.976\n",
      "epoch:18 | 0.117 - 0.978\n"
     ]
    },
    {
     "name": "stderr",
     "output_type": "stream",
     "text": [
      "No handles with labels found to put in legend.\n"
     ]
    },
    {
     "name": "stdout",
     "output_type": "stream",
     "text": [
      "epoch:19 | 0.117 - 0.982\n",
      "============== 8/16 ==============\n",
      "epoch:0 | 0.097 - 0.116\n",
      "epoch:1 | 0.116 - 0.382\n",
      "epoch:2 | 0.116 - 0.661\n",
      "epoch:3 | 0.116 - 0.762\n",
      "epoch:4 | 0.117 - 0.817\n",
      "epoch:5 | 0.117 - 0.874\n",
      "epoch:6 | 0.117 - 0.903\n",
      "epoch:7 | 0.117 - 0.939\n",
      "epoch:8 | 0.117 - 0.959\n",
      "epoch:9 | 0.117 - 0.967\n",
      "epoch:10 | 0.117 - 0.98\n",
      "epoch:11 | 0.117 - 0.987\n",
      "epoch:12 | 0.117 - 0.989\n",
      "epoch:13 | 0.117 - 0.99\n",
      "epoch:14 | 0.117 - 0.992\n",
      "epoch:15 | 0.117 - 0.996\n",
      "epoch:16 | 0.117 - 0.998\n",
      "epoch:17 | 0.117 - 0.999\n",
      "epoch:18 | 0.117 - 0.999\n"
     ]
    },
    {
     "name": "stderr",
     "output_type": "stream",
     "text": [
      "No handles with labels found to put in legend.\n"
     ]
    },
    {
     "name": "stdout",
     "output_type": "stream",
     "text": [
      "epoch:19 | 0.117 - 0.999\n",
      "============== 9/16 ==============\n",
      "epoch:0 | 0.117 - 0.103\n",
      "epoch:1 | 0.116 - 0.628\n",
      "epoch:2 | 0.116 - 0.755\n",
      "epoch:3 | 0.116 - 0.811\n",
      "epoch:4 | 0.116 - 0.87\n",
      "epoch:5 | 0.116 - 0.932\n",
      "epoch:6 | 0.116 - 0.954\n",
      "epoch:7 | 0.117 - 0.978\n",
      "epoch:8 | 0.117 - 0.987\n",
      "epoch:9 | 0.117 - 0.99\n",
      "epoch:10 | 0.117 - 0.993\n",
      "epoch:11 | 0.117 - 0.994\n",
      "epoch:12 | 0.117 - 0.996\n",
      "epoch:13 | 0.116 - 0.997\n",
      "epoch:14 | 0.116 - 0.996\n",
      "epoch:15 | 0.117 - 0.998\n",
      "epoch:16 | 0.116 - 0.999\n",
      "epoch:17 | 0.117 - 0.999\n",
      "epoch:18 | 0.117 - 0.999\n"
     ]
    },
    {
     "name": "stderr",
     "output_type": "stream",
     "text": [
      "No handles with labels found to put in legend.\n"
     ]
    },
    {
     "name": "stdout",
     "output_type": "stream",
     "text": [
      "epoch:19 | 0.117 - 0.999\n",
      "============== 10/16 ==============\n",
      "epoch:0 | 0.092 - 0.11\n",
      "epoch:1 | 0.117 - 0.429\n",
      "epoch:2 | 0.117 - 0.717\n",
      "epoch:3 | 0.117 - 0.83\n",
      "epoch:4 | 0.117 - 0.843\n",
      "epoch:5 | 0.117 - 0.864\n",
      "epoch:6 | 0.117 - 0.912\n",
      "epoch:7 | 0.117 - 0.903\n",
      "epoch:8 | 0.117 - 0.957\n",
      "epoch:9 | 0.117 - 0.983\n",
      "epoch:10 | 0.117 - 0.99\n",
      "epoch:11 | 0.117 - 0.992\n",
      "epoch:12 | 0.117 - 0.995\n",
      "epoch:13 | 0.117 - 0.977\n",
      "epoch:14 | 0.117 - 0.916\n",
      "epoch:15 | 0.117 - 0.981\n",
      "epoch:16 | 0.117 - 0.993\n",
      "epoch:17 | 0.116 - 0.998\n",
      "epoch:18 | 0.116 - 1.0\n"
     ]
    },
    {
     "name": "stderr",
     "output_type": "stream",
     "text": [
      "No handles with labels found to put in legend.\n"
     ]
    },
    {
     "name": "stdout",
     "output_type": "stream",
     "text": [
      "epoch:19 | 0.116 - 1.0\n",
      "============== 11/16 ==============\n",
      "epoch:0 | 0.116 - 0.126\n",
      "epoch:1 | 0.117 - 0.649\n",
      "epoch:2 | 0.117 - 0.72\n",
      "epoch:3 | 0.116 - 0.648\n",
      "epoch:4 | 0.116 - 0.764\n",
      "epoch:5 | 0.116 - 0.791\n",
      "epoch:6 | 0.117 - 0.778\n",
      "epoch:7 | 0.117 - 0.791\n",
      "epoch:8 | 0.116 - 0.791\n",
      "epoch:9 | 0.116 - 0.889\n",
      "epoch:10 | 0.116 - 0.882\n",
      "epoch:11 | 0.116 - 0.924\n",
      "epoch:12 | 0.116 - 0.939\n",
      "epoch:13 | 0.116 - 0.969\n",
      "epoch:14 | 0.116 - 0.966\n",
      "epoch:15 | 0.116 - 0.983\n",
      "epoch:16 | 0.117 - 0.948\n",
      "epoch:17 | 0.117 - 0.988\n",
      "epoch:18 | 0.117 - 0.986\n"
     ]
    },
    {
     "name": "stderr",
     "output_type": "stream",
     "text": [
      "No handles with labels found to put in legend.\n"
     ]
    },
    {
     "name": "stdout",
     "output_type": "stream",
     "text": [
      "epoch:19 | 0.117 - 0.983\n",
      "============== 12/16 ==============\n",
      "epoch:0 | 0.092 - 0.253\n",
      "epoch:1 | 0.117 - 0.525\n",
      "epoch:2 | 0.117 - 0.641\n",
      "epoch:3 | 0.117 - 0.678\n",
      "epoch:4 | 0.117 - 0.717\n",
      "epoch:5 | 0.117 - 0.757\n",
      "epoch:6 | 0.117 - 0.741\n",
      "epoch:7 | 0.116 - 0.775\n",
      "epoch:8 | 0.116 - 0.769\n",
      "epoch:9 | 0.116 - 0.782\n",
      "epoch:10 | 0.116 - 0.789\n",
      "epoch:11 | 0.116 - 0.8\n",
      "epoch:12 | 0.116 - 0.772\n",
      "epoch:13 | 0.116 - 0.8\n",
      "epoch:14 | 0.116 - 0.8\n",
      "epoch:15 | 0.116 - 0.8\n",
      "epoch:16 | 0.116 - 0.801\n",
      "epoch:17 | 0.117 - 0.803\n",
      "epoch:18 | 0.117 - 0.804\n"
     ]
    },
    {
     "name": "stderr",
     "output_type": "stream",
     "text": [
      "No handles with labels found to put in legend.\n"
     ]
    },
    {
     "name": "stdout",
     "output_type": "stream",
     "text": [
      "epoch:19 | 0.117 - 0.804\n",
      "============== 13/16 ==============\n",
      "epoch:0 | 0.116 - 0.176\n",
      "epoch:1 | 0.117 - 0.363\n",
      "epoch:2 | 0.117 - 0.517\n",
      "epoch:3 | 0.117 - 0.59\n",
      "epoch:4 | 0.117 - 0.6\n",
      "epoch:5 | 0.117 - 0.604\n",
      "epoch:6 | 0.117 - 0.614\n",
      "epoch:7 | 0.117 - 0.673\n",
      "epoch:8 | 0.117 - 0.677\n",
      "epoch:9 | 0.117 - 0.674\n",
      "epoch:10 | 0.117 - 0.674\n",
      "epoch:11 | 0.117 - 0.63\n",
      "epoch:12 | 0.117 - 0.691\n",
      "epoch:13 | 0.117 - 0.687\n",
      "epoch:14 | 0.117 - 0.708\n",
      "epoch:15 | 0.117 - 0.688\n",
      "epoch:16 | 0.117 - 0.705\n",
      "epoch:17 | 0.117 - 0.704\n",
      "epoch:18 | 0.117 - 0.716\n"
     ]
    },
    {
     "name": "stderr",
     "output_type": "stream",
     "text": [
      "No handles with labels found to put in legend.\n"
     ]
    },
    {
     "name": "stdout",
     "output_type": "stream",
     "text": [
      "epoch:19 | 0.117 - 0.711\n",
      "============== 14/16 ==============\n",
      "epoch:0 | 0.105 - 0.097\n",
      "epoch:1 | 0.116 - 0.311\n",
      "epoch:2 | 0.116 - 0.14\n",
      "epoch:3 | 0.116 - 0.366\n",
      "epoch:4 | 0.117 - 0.423\n",
      "epoch:5 | 0.117 - 0.424\n",
      "epoch:6 | 0.117 - 0.407\n",
      "epoch:7 | 0.117 - 0.427\n",
      "epoch:8 | 0.116 - 0.433\n",
      "epoch:9 | 0.117 - 0.432\n",
      "epoch:10 | 0.117 - 0.433\n",
      "epoch:11 | 0.116 - 0.432\n",
      "epoch:12 | 0.116 - 0.436\n",
      "epoch:13 | 0.116 - 0.435\n",
      "epoch:14 | 0.116 - 0.542\n",
      "epoch:15 | 0.116 - 0.538\n",
      "epoch:16 | 0.116 - 0.523\n",
      "epoch:17 | 0.116 - 0.52\n",
      "epoch:18 | 0.116 - 0.528\n"
     ]
    },
    {
     "name": "stderr",
     "output_type": "stream",
     "text": [
      "No handles with labels found to put in legend.\n"
     ]
    },
    {
     "name": "stdout",
     "output_type": "stream",
     "text": [
      "epoch:19 | 0.116 - 0.526\n",
      "============== 15/16 ==============\n",
      "epoch:0 | 0.117 - 0.123\n",
      "epoch:1 | 0.117 - 0.363\n",
      "epoch:2 | 0.116 - 0.422\n",
      "epoch:3 | 0.116 - 0.494\n",
      "epoch:4 | 0.117 - 0.357\n",
      "epoch:5 | 0.117 - 0.495\n",
      "epoch:6 | 0.117 - 0.456\n",
      "epoch:7 | 0.117 - 0.502\n",
      "epoch:8 | 0.117 - 0.433\n",
      "epoch:9 | 0.117 - 0.436\n",
      "epoch:10 | 0.117 - 0.513\n",
      "epoch:11 | 0.117 - 0.495\n",
      "epoch:12 | 0.117 - 0.514\n",
      "epoch:13 | 0.117 - 0.515\n",
      "epoch:14 | 0.117 - 0.529\n",
      "epoch:15 | 0.117 - 0.529\n",
      "epoch:16 | 0.117 - 0.528\n",
      "epoch:17 | 0.117 - 0.53\n",
      "epoch:18 | 0.117 - 0.527\n"
     ]
    },
    {
     "name": "stderr",
     "output_type": "stream",
     "text": [
      "No handles with labels found to put in legend.\n"
     ]
    },
    {
     "name": "stdout",
     "output_type": "stream",
     "text": [
      "epoch:19 | 0.117 - 0.522\n",
      "============== 16/16 ==============\n",
      "epoch:0 | 0.1 - 0.188\n",
      "epoch:1 | 0.116 - 0.297\n",
      "epoch:2 | 0.117 - 0.383\n",
      "epoch:3 | 0.117 - 0.419\n",
      "epoch:4 | 0.116 - 0.354\n",
      "epoch:5 | 0.117 - 0.423\n",
      "epoch:6 | 0.117 - 0.418\n",
      "epoch:7 | 0.117 - 0.427\n",
      "epoch:8 | 0.116 - 0.432\n",
      "epoch:9 | 0.116 - 0.426\n",
      "epoch:10 | 0.116 - 0.429\n",
      "epoch:11 | 0.116 - 0.428\n",
      "epoch:12 | 0.116 - 0.433\n",
      "epoch:13 | 0.116 - 0.429\n",
      "epoch:14 | 0.116 - 0.431\n",
      "epoch:15 | 0.116 - 0.432\n",
      "epoch:16 | 0.116 - 0.432\n",
      "epoch:17 | 0.116 - 0.523\n",
      "epoch:18 | 0.116 - 0.53\n",
      "epoch:19 | 0.117 - 0.528\n"
     ]
    },
    {
     "data": {
      "image/png": "[encoded data removed]",
      "text/plain": [
       "<Figure size 936x936 with 16 Axes>"
      ]
     },
     "metadata": {
      "needs_background": "light"
     },
     "output_type": "display_data"
    }
   ],
   "source": [
    "# coding: utf-8\n",
    "import sys, os\n",
    "sys.path.append(os.pardir)  # 부모 디렉터리의 파일을 가져올 수 있도록 설정\n",
    "import numpy as np\n",
    "import matplotlib.pyplot as plt\n",
    "%matplotlib inline\n",
    "from dataset.mnist import load_mnist\n",
    "from common.multi_layer_net_extend import MultiLayerNetExtend\n",
    "from common.optimizer import SGD, Adam\n",
    "\n",
    "plt.rcParams[\"figure.figsize\"] = (13, 13) # title이 겹쳐서 그래프 크기를 키웠음\n",
    "\n",
    "(x_train, t_train), (x_test, t_test) = load_mnist(normalize=True)\n",
    "\n",
    "# 학습 데이터를 줄임\n",
    "x_train = x_train[:1000]\n",
    "t_train = t_train[:1000]\n",
    "\n",
    "max_epochs = 20\n",
    "train_size = x_train.shape[0]\n",
    "batch_size = 100\n",
    "learning_rate = 0.01\n",
    "\n",
    "def __train(weight_init_std):\n",
    "    bn_network = MultiLayerNetExtend(input_size=784, hidden_size_list=[100, 100, 100, 100, 100], output_size=10, \n",
    "                                    weight_init_std=weight_init_std, use_batchnorm=True)\n",
    "    network = MultiLayerNetExtend(input_size=784, hidden_size_list=[100, 100, 100, 100, 100], output_size=10,\n",
    "                                weight_init_std=weight_init_std)\n",
    "    optimizer = SGD(lr=learning_rate)\n",
    "    \n",
    "    train_acc_list = []\n",
    "    bn_train_acc_list = []\n",
    "    \n",
    "    iter_per_epoch = max(train_size / batch_size, 1)\n",
    "    epoch_cnt = 0\n",
    "    \n",
    "    for i in range(1000000000):\n",
    "        batch_mask = np.random.choice(train_size, batch_size)\n",
    "        x_batch = x_train[batch_mask]\n",
    "        t_batch = t_train[batch_mask]\n",
    "    \n",
    "        for _network in (bn_network, network):\n",
    "            grads = _network.gradient(x_batch, t_batch)\n",
    "            optimizer.update(_network.params, grads)\n",
    "    \n",
    "        if i % iter_per_epoch == 0:\n",
    "            train_acc = network.accuracy(x_train, t_train)\n",
    "            bn_train_acc = bn_network.accuracy(x_train, t_train)\n",
    "            train_acc_list.append(train_acc)\n",
    "            bn_train_acc_list.append(bn_train_acc)\n",
    "    \n",
    "            print(\"epoch:\" + str(epoch_cnt) + \" | \" + str(train_acc) + \" - \" + str(bn_train_acc))\n",
    "    \n",
    "            epoch_cnt += 1\n",
    "            if epoch_cnt >= max_epochs:\n",
    "                break\n",
    "                \n",
    "    return train_acc_list, bn_train_acc_list\n",
    "\n",
    "\n",
    "# 그래프 그리기\n",
    "weight_scale_list = np.logspace(0, -4, num=16)\n",
    "x = np.arange(max_epochs)\n",
    "\n",
    "for i, w in enumerate(weight_scale_list):\n",
    "    print( \"============== \" + str(i+1) + \"/16\" + \" ==============\")\n",
    "    train_acc_list, bn_train_acc_list = __train(w)\n",
    "    \n",
    "    plt.subplot(4,4,i+1)\n",
    "    plt.title(\"W:\" + str(w))\n",
    "    if i == 15:\n",
    "        plt.plot(x, bn_train_acc_list, label='Batch Normalization', markevery=2)\n",
    "        plt.plot(x, train_acc_list, linestyle = \"--\", label='Normal(without BatchNorm)', markevery=2)\n",
    "    else:\n",
    "        plt.plot(x, bn_train_acc_list, markevery=2)\n",
    "        plt.plot(x, train_acc_list, linestyle=\"--\", markevery=2)\n",
    "\n",
    "    plt.ylim(0, 1.0)\n",
    "    if i % 4:\n",
    "        plt.yticks([])\n",
    "    else:\n",
    "        plt.ylabel(\"accuracy\")\n",
    "    if i < 12:\n",
    "        plt.xticks([])\n",
    "    else:\n",
    "        plt.xlabel(\"epochs\")\n",
    "    plt.legend(loc='lower right')\n",
    "    \n",
    "plt.show()"
   ]
  },
  {
   "cell_type": "code",
   "execution_count": null,
   "metadata": {},
   "outputs": [],
   "source": []
  }
 ],
 "metadata": {
  "kernelspec": {
   "display_name": "Python 3",
   "language": "python",
   "name": "python3"
  },
  "language_info": {
   "codemirror_mode": {
    "name": "ipython",
    "version": 3
   },
   "file_extension": ".py",
   "mimetype": "text/x-python",
   "name": "python",
   "nbconvert_exporter": "python",
   "pygments_lexer": "ipython3",
   "version": "3.7.1"
  }
 },
 "nbformat": 4,
 "nbformat_minor": 2
}
