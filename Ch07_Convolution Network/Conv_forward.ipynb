{
 "cells": [
  {
   "cell_type": "code",
   "execution_count": 4,
   "metadata": {},
   "outputs": [],
   "source": [
    "import sys, os\n",
    "sys.path.append(os.pardir)\n",
    "from common.util import im2col\n",
    "import numpy as np"
   ]
  },
  {
   "cell_type": "markdown",
   "metadata": {},
   "source": [
    "## im2col 구현"
   ]
  },
  {
   "cell_type": "code",
   "execution_count": null,
   "metadata": {},
   "outputs": [],
   "source": [
    "def im2col(input_data, filter_h, filter_w, stride=1, pad=0):\n",
    "    \"\"\"다수의 이미지를 입력받아 2차원 배열로 변환한다(평탄화).\n",
    "    \n",
    "    Parameters\n",
    "    ----------\n",
    "    input_data : 4차원 배열 형태의 입력 데이터(이미지 수, 채널 수, 높이, 너비)\n",
    "    filter_h : 필터의 높이\n",
    "    filter_w : 필터의 너비\n",
    "    stride : 스트라이드\n",
    "    pad : 패딩\n",
    "    \n",
    "    Returns\n",
    "    -------\n",
    "    col : 2차원 배열\n",
    "    \"\"\"\n",
    "    N, C, H, W = input_data.shape\n",
    "    out_h = (H + 2*pad - filter_h)//stride + 1\n",
    "    out_w = (W + 2*pad - filter_w)//stride + 1\n",
    "\n",
    "    img = np.pad(input_data, [(0,0), (0,0), (pad, pad), (pad, pad)], 'constant') #padding으로 높이와 너비에 padding을 넣어줌\n",
    "    col = np.zeros((N, C, filter_h, filter_w, out_h, out_w))\n",
    "\n",
    "    for y in range(filter_h):\n",
    "        y_max = y + stride*out_h\n",
    "        for x in range(filter_w):\n",
    "            x_max = x + stride*out_w\n",
    "            col[:, :, y, x, :, :] = img[:, :, y:y_max:stride, x:x_max:stride]\n",
    "\n",
    "    col = col.transpose(0, 4, 5, 1, 2, 3).reshape(N*out_h*out_w, -1)\n",
    "    return col\n"
   ]
  },
  {
   "cell_type": "markdown",
   "metadata": {},
   "source": [
    "## im2col 시연"
   ]
  },
  {
   "cell_type": "code",
   "execution_count": 34,
   "metadata": {},
   "outputs": [
    {
     "name": "stdout",
     "output_type": "stream",
     "text": [
      "(4, 12)\n"
     ]
    }
   ],
   "source": [
    "x1=np.random.rand(1,3,3,3)\n",
    "col1=im2col(x1, 2, 2, stride=1, pad=0)\n",
    "print(col1.shape)"
   ]
  },
  {
   "cell_type": "code",
   "execution_count": 35,
   "metadata": {},
   "outputs": [
    {
     "name": "stdout",
     "output_type": "stream",
     "text": [
      "[[[[0.04951028 0.91294885 0.86122585]\n",
      "   [0.36767645 0.46916723 0.42027799]\n",
      "   [0.27151267 0.09554375 0.76419891]]\n",
      "\n",
      "  [[0.07368698 0.80338699 0.53470977]\n",
      "   [0.87842972 0.58905587 0.94303385]\n",
      "   [0.55509312 0.62493555 0.15252255]]\n",
      "\n",
      "  [[0.73984215 0.69804968 0.09109066]\n",
      "   [0.24297083 0.82421198 0.59627527]\n",
      "   [0.07965097 0.00195352 0.38335063]]]]\n"
     ]
    }
   ],
   "source": [
    "print(x1)"
   ]
  },
  {
   "cell_type": "code",
   "execution_count": 36,
   "metadata": {},
   "outputs": [
    {
     "name": "stdout",
     "output_type": "stream",
     "text": [
      "[[0.04951028 0.91294885 0.36767645 0.46916723 0.07368698 0.80338699\n",
      "  0.87842972 0.58905587 0.73984215 0.69804968 0.24297083 0.82421198]\n",
      " [0.91294885 0.86122585 0.46916723 0.42027799 0.80338699 0.53470977\n",
      "  0.58905587 0.94303385 0.69804968 0.09109066 0.82421198 0.59627527]\n",
      " [0.36767645 0.46916723 0.27151267 0.09554375 0.87842972 0.58905587\n",
      "  0.55509312 0.62493555 0.24297083 0.82421198 0.07965097 0.00195352]\n",
      " [0.46916723 0.42027799 0.09554375 0.76419891 0.58905587 0.94303385\n",
      "  0.62493555 0.15252255 0.82421198 0.59627527 0.00195352 0.38335063]]\n"
     ]
    }
   ],
   "source": [
    "print(col1)"
   ]
  },
  {
   "cell_type": "code",
   "execution_count": 39,
   "metadata": {},
   "outputs": [
    {
     "name": "stdout",
     "output_type": "stream",
     "text": [
      "(9, 75)\n"
     ]
    }
   ],
   "source": [
    "x2=np.random.rand(1,3,7,7)\n",
    "col2=im2col(x2, 5, 5, stride=1, pad=0)\n",
    "print(col2.shape)"
   ]
  },
  {
   "cell_type": "code",
   "execution_count": 40,
   "metadata": {},
   "outputs": [
    {
     "name": "stdout",
     "output_type": "stream",
     "text": [
      "(90, 75)\n"
     ]
    }
   ],
   "source": [
    "x3=np.random.rand(10, 3, 7, 7)\n",
    "col3=im2col(x3, 5, 5, stride=1, pad=0)\n",
    "print(col3.shape)"
   ]
  },
  {
   "cell_type": "markdown",
   "metadata": {},
   "source": [
    "## Simple Convolution"
   ]
  },
  {
   "cell_type": "code",
   "execution_count": null,
   "metadata": {},
   "outputs": [],
   "source": [
    "class Convolution:\n",
    "    def __init__(self, W, b, strid=1, pad=0):\n",
    "        self.W=W\n",
    "        self.b=b\n",
    "        self.stride=stride\n",
    "        self.pad=pad\n",
    "        \n",
    "    def forward(self, x):\n",
    "        FN, C, FH, FW = self.W.shape\n",
    "        N, C, H, W = x.shape\n",
    "        out_h=int(1+(H+2*self.pad-FH)/self.stride)\n",
    "        out_w=int(1+(W+2*self.pad-FW)/self.stride)\n",
    "        \n",
    "        col=im2col(x, FH, FW, self.stride, self.pad)\n",
    "        col_W=self.W.reshape(FN, -1).T\n",
    "        out=np.dot(col, col_W)+self.b\n",
    "        \n",
    "        out=out.reshape(N, out_h, out_w, -1).transpose(0,3,1,2)\n",
    "        \n",
    "        return out\n",
    "        "
   ]
  },
  {
   "cell_type": "markdown",
   "metadata": {},
   "source": [
    "self.W.reshape(FN, -1).T 확인해보기"
   ]
  },
  {
   "cell_type": "code",
   "execution_count": 47,
   "metadata": {},
   "outputs": [
    {
     "name": "stdout",
     "output_type": "stream",
     "text": [
      "[[[[0.78965879 0.88320332]\n",
      "   [0.16793797 0.7653302 ]]\n",
      "\n",
      "  [[0.61036554 0.40525144]\n",
      "   [0.58634761 0.57793482]]\n",
      "\n",
      "  [[0.19847316 0.05749034]\n",
      "   [0.54917522 0.74860787]]]\n",
      "\n",
      "\n",
      " [[[0.35196569 0.92677374]\n",
      "   [0.22004974 0.75369348]]\n",
      "\n",
      "  [[0.4667236  0.2249829 ]\n",
      "   [0.20668939 0.52194494]]\n",
      "\n",
      "  [[0.31889386 0.62496452]\n",
      "   [0.53885245 0.91287286]]]]\n"
     ]
    }
   ],
   "source": [
    "w=np.random.rand(2,3,2,2) #FN=2, N=23 H=2, W=2\n",
    "print(w)"
   ]
  },
  {
   "cell_type": "code",
   "execution_count": 49,
   "metadata": {},
   "outputs": [
    {
     "data": {
      "text/plain": [
       "array([[0.78965879, 0.88320332, 0.16793797, 0.7653302 , 0.61036554,\n",
       "        0.40525144, 0.58634761, 0.57793482, 0.19847316, 0.05749034,\n",
       "        0.54917522, 0.74860787],\n",
       "       [0.35196569, 0.92677374, 0.22004974, 0.75369348, 0.4667236 ,\n",
       "        0.2249829 , 0.20668939, 0.52194494, 0.31889386, 0.62496452,\n",
       "        0.53885245, 0.91287286]])"
      ]
     },
     "execution_count": 49,
     "metadata": {},
     "output_type": "execute_result"
    }
   ],
   "source": [
    "w.reshape(2,-1) #FN=2"
   ]
  },
  {
   "cell_type": "code",
   "execution_count": 53,
   "metadata": {},
   "outputs": [
    {
     "data": {
      "text/plain": [
       "array([[0.78965879, 0.35196569],\n",
       "       [0.88320332, 0.92677374],\n",
       "       [0.16793797, 0.22004974],\n",
       "       [0.7653302 , 0.75369348],\n",
       "       [0.61036554, 0.4667236 ],\n",
       "       [0.40525144, 0.2249829 ],\n",
       "       [0.58634761, 0.20668939],\n",
       "       [0.57793482, 0.52194494],\n",
       "       [0.19847316, 0.31889386],\n",
       "       [0.05749034, 0.62496452],\n",
       "       [0.54917522, 0.53885245],\n",
       "       [0.74860787, 0.91287286]])"
      ]
     },
     "execution_count": 53,
     "metadata": {},
     "output_type": "execute_result"
    }
   ],
   "source": [
    "w.reshape(2,-1).T"
   ]
  },
  {
   "cell_type": "code",
   "execution_count": 52,
   "metadata": {},
   "outputs": [],
   "source": [
    "col_w=w.reshape(2,-1).T"
   ]
  },
  {
   "cell_type": "markdown",
   "metadata": {},
   "source": [
    "np.dot(col, col_W)+self.b 형태 확인해보기"
   ]
  },
  {
   "cell_type": "code",
   "execution_count": 55,
   "metadata": {},
   "outputs": [
    {
     "data": {
      "text/plain": [
       "array([[3.42969623, 3.55770853],\n",
       "       [4.5222474 , 3.91669699],\n",
       "       [2.42576949, 2.31669213],\n",
       "       [3.02478181, 2.83398825]])"
      ]
     },
     "execution_count": 55,
     "metadata": {},
     "output_type": "execute_result"
    }
   ],
   "source": [
    "out=np.dot(col1, col_w) #(pooling을 사용하지 않고, 온전한 합성곱 연산과 channel summation을 시행했을 때\n",
    "out"
   ]
  },
  {
   "cell_type": "markdown",
   "metadata": {},
   "source": [
    "out.reshape(N, out_h, out_w, -1).transpose(0,3,1,2) 형태 확인해보기"
   ]
  },
  {
   "cell_type": "code",
   "execution_count": 58,
   "metadata": {},
   "outputs": [],
   "source": [
    "FN, C, FH, FW = w.shape\n",
    "N, C, H, W = x1.shape\n",
    "pad=0\n",
    "stride=1\n",
    "out_h=int(1+(H+2*pad-FH)/stride)\n",
    "out_w=int(1+(W+2*pad-FW)/stride)"
   ]
  },
  {
   "cell_type": "code",
   "execution_count": 61,
   "metadata": {},
   "outputs": [
    {
     "name": "stdout",
     "output_type": "stream",
     "text": [
      "2 3 2 2 1 3 3 3 2 2\n"
     ]
    }
   ],
   "source": [
    "print(FN, C, FH, FW, N, C, H, W, out_h, out_w)"
   ]
  },
  {
   "cell_type": "code",
   "execution_count": 59,
   "metadata": {},
   "outputs": [
    {
     "data": {
      "text/plain": [
       "array([[[[3.42969623, 4.5222474 ],\n",
       "         [2.42576949, 3.02478181]],\n",
       "\n",
       "        [[3.55770853, 3.91669699],\n",
       "         [2.31669213, 2.83398825]]]])"
      ]
     },
     "execution_count": 59,
     "metadata": {},
     "output_type": "execute_result"
    }
   ],
   "source": [
    "out.reshape(N, out_h, out_w, -1).transpose(0,3,1,2) # N, out_h, out_w, FN -> N, FN, out_h, out_w"
   ]
  },
  {
   "cell_type": "markdown",
   "metadata": {},
   "source": [
    "### 데이터 개수가 2이상일 때(N>=2)"
   ]
  },
  {
   "cell_type": "code",
   "execution_count": 62,
   "metadata": {},
   "outputs": [
    {
     "name": "stdout",
     "output_type": "stream",
     "text": [
      "(8, 12)\n"
     ]
    }
   ],
   "source": [
    "x1=np.random.rand(2,3,3,3)\n",
    "col1=im2col(x1, 2, 2, stride=1, pad=0)\n",
    "print(col1.shape)"
   ]
  },
  {
   "cell_type": "code",
   "execution_count": 67,
   "metadata": {},
   "outputs": [
    {
     "name": "stdout",
     "output_type": "stream",
     "text": [
      "(12, 2)\n"
     ]
    }
   ],
   "source": [
    "w=np.random.rand(2,3,2,2) #FN=2, N=23 H=2, W=2\n",
    "col_w=w.reshape(2,-1).T\n",
    "print(col_w.shape)"
   ]
  },
  {
   "cell_type": "code",
   "execution_count": 64,
   "metadata": {},
   "outputs": [
    {
     "data": {
      "text/plain": [
       "array([[3.03678754, 3.00309735],\n",
       "       [3.64382296, 3.57877473],\n",
       "       [3.22834844, 3.09499162],\n",
       "       [3.73543431, 3.62902373],\n",
       "       [2.28662063, 2.36306989],\n",
       "       [3.62969014, 3.75955036],\n",
       "       [3.06836769, 2.98538808],\n",
       "       [3.88751337, 3.68985096]])"
      ]
     },
     "execution_count": 64,
     "metadata": {},
     "output_type": "execute_result"
    }
   ],
   "source": [
    "out=np.dot(col1, col_w) #(pooling을 사용하지 않고, 온전한 합성곱 연산과 channel summation을 시행했을 때\n",
    "out"
   ]
  },
  {
   "cell_type": "code",
   "execution_count": 68,
   "metadata": {},
   "outputs": [],
   "source": [
    "FN, C, FH, FW = w.shape\n",
    "N, C, H, W = x1.shape\n",
    "pad=0\n",
    "stride=1\n",
    "out_h=int(1+(H+2*pad-FH)/stride)\n",
    "out_w=int(1+(W+2*pad-FW)/stride)"
   ]
  },
  {
   "cell_type": "code",
   "execution_count": 69,
   "metadata": {},
   "outputs": [
    {
     "name": "stdout",
     "output_type": "stream",
     "text": [
      "2 3 2 2 2 3 3 3 2 2\n"
     ]
    }
   ],
   "source": [
    "print(FN, C, FH, FW, N, C, H, W, out_h, out_w)"
   ]
  },
  {
   "cell_type": "code",
   "execution_count": 74,
   "metadata": {},
   "outputs": [
    {
     "data": {
      "text/plain": [
       "array([[[[3.03678754, 3.64382296],\n",
       "         [3.22834844, 3.73543431]],\n",
       "\n",
       "        [[3.00309735, 3.57877473],\n",
       "         [3.09499162, 3.62902373]]],\n",
       "\n",
       "\n",
       "       [[[2.28662063, 3.62969014],\n",
       "         [3.06836769, 3.88751337]],\n",
       "\n",
       "        [[2.36306989, 3.75955036],\n",
       "         [2.98538808, 3.68985096]]]])"
      ]
     },
     "execution_count": 74,
     "metadata": {},
     "output_type": "execute_result"
    }
   ],
   "source": [
    "result=out.reshape(N, out_h, out_w, -1).transpose(0,3,1,2) # N, out_h, out_w, FN -> N, FN, out_h, out_w\n",
    "result"
   ]
  },
  {
   "cell_type": "code",
   "execution_count": 73,
   "metadata": {},
   "outputs": [
    {
     "name": "stdout",
     "output_type": "stream",
     "text": [
      "(2, 2, 2, 2)\n"
     ]
    }
   ],
   "source": [
    "print(result.shape)"
   ]
  },
  {
   "cell_type": "markdown",
   "metadata": {},
   "source": [
    "## pooling 구현"
   ]
  },
  {
   "cell_type": "code",
   "execution_count": 27,
   "metadata": {},
   "outputs": [],
   "source": [
    "class Pooling:\n",
    "    def __init__(self, pool_h, pool_w, stride=1, pad=0):\n",
    "        self.pool_h=pool_h\n",
    "        self.pool_w=pool_w\n",
    "        self.stride=stride\n",
    "        self.pad=pad\n",
    "        \n",
    "    def forward(self, x):\n",
    "        N, C, H, W=x.shape\n",
    "        out_h=int(1+(H-self.pool_h)/self.stride)\n",
    "        out_w=int(1+(W-self.pool_w)/self.stride)\n",
    "        \n",
    "        #전개(1)\n",
    "        col=im2col(x, self.pool_h, self.pool_w, self.stride, self.pad)\n",
    "        col=col.reshape(-1, self.pool_h*self.pool_w)\n",
    "        \n",
    "        #최댓값(2)\n",
    "        out=np.max(col, axis1)\n",
    "        \n",
    "        #성형(3)\n",
    "        out=out.reshape(N, out_h, out_w, C).transpose(0,3,1,2)\n",
    "        \n",
    "        return out"
   ]
  },
  {
   "cell_type": "markdown",
   "metadata": {},
   "source": [
    "### 예시(데이터가 1개일 때)"
   ]
  },
  {
   "cell_type": "code",
   "execution_count": 82,
   "metadata": {},
   "outputs": [
    {
     "name": "stdout",
     "output_type": "stream",
     "text": [
      "(4, 12)\n"
     ]
    }
   ],
   "source": [
    "x=np.random.rand(1,3,3,3)\n",
    "col=im2col(x, 2, 2, stride=1, pad=0)\n",
    "print(col.shape)"
   ]
  },
  {
   "cell_type": "code",
   "execution_count": 83,
   "metadata": {},
   "outputs": [
    {
     "name": "stdout",
     "output_type": "stream",
     "text": [
      "[[0.17841589 0.13143481 0.35266579 0.26480141 0.65228741 0.50583538\n",
      "  0.34078224 0.37232706 0.32246471 0.23775278 0.82333536 0.33368825]\n",
      " [0.13143481 0.47221253 0.26480141 0.59690561 0.50583538 0.82247719\n",
      "  0.37232706 0.22901439 0.23775278 0.94785634 0.33368825 0.32448504]\n",
      " [0.35266579 0.26480141 0.47193073 0.52139824 0.34078224 0.37232706\n",
      "  0.93128615 0.62424366 0.82333536 0.33368825 0.94436293 0.65419418]\n",
      " [0.26480141 0.59690561 0.52139824 0.80639367 0.37232706 0.22901439\n",
      "  0.62424366 0.37660754 0.33368825 0.32448504 0.65419418 0.91487463]]\n"
     ]
    }
   ],
   "source": [
    "print(col)"
   ]
  },
  {
   "cell_type": "code",
   "execution_count": 88,
   "metadata": {},
   "outputs": [
    {
     "name": "stdout",
     "output_type": "stream",
     "text": [
      "(12, 4)\n"
     ]
    }
   ],
   "source": [
    "w=np.random.rand(2,3,2,2) #FN=2, N=3 H=2, W=2\n",
    "pool_h=2\n",
    "pool_w=2\n",
    "stride=1\n",
    "pad=0\n",
    "col2=col.reshape(-1, pool_h*pool_w)\n",
    "print(col2.shape)"
   ]
  },
  {
   "cell_type": "code",
   "execution_count": 85,
   "metadata": {},
   "outputs": [
    {
     "name": "stdout",
     "output_type": "stream",
     "text": [
      "[[0.17841589 0.13143481 0.35266579 0.26480141]\n",
      " [0.65228741 0.50583538 0.34078224 0.37232706]\n",
      " [0.32246471 0.23775278 0.82333536 0.33368825]\n",
      " [0.13143481 0.47221253 0.26480141 0.59690561]\n",
      " [0.50583538 0.82247719 0.37232706 0.22901439]\n",
      " [0.23775278 0.94785634 0.33368825 0.32448504]\n",
      " [0.35266579 0.26480141 0.47193073 0.52139824]\n",
      " [0.34078224 0.37232706 0.93128615 0.62424366]\n",
      " [0.82333536 0.33368825 0.94436293 0.65419418]\n",
      " [0.26480141 0.59690561 0.52139824 0.80639367]\n",
      " [0.37232706 0.22901439 0.62424366 0.37660754]\n",
      " [0.33368825 0.32448504 0.65419418 0.91487463]]\n"
     ]
    }
   ],
   "source": [
    "print(col2)"
   ]
  },
  {
   "cell_type": "code",
   "execution_count": 87,
   "metadata": {},
   "outputs": [
    {
     "name": "stdout",
     "output_type": "stream",
     "text": [
      "(12,)\n",
      "[0.35266579 0.65228741 0.82333536 0.59690561 0.82247719 0.94785634\n",
      " 0.52139824 0.93128615 0.94436293 0.80639367 0.62424366 0.91487463]\n"
     ]
    }
   ],
   "source": [
    "out=np.max(col2, axis=1)\n",
    "print(out.shape)\n",
    "print(out)"
   ]
  },
  {
   "cell_type": "code",
   "execution_count": 90,
   "metadata": {},
   "outputs": [
    {
     "data": {
      "text/plain": [
       "array([[[[0.35266579, 0.59690561],\n",
       "         [0.52139824, 0.80639367]],\n",
       "\n",
       "        [[0.65228741, 0.82247719],\n",
       "         [0.93128615, 0.62424366]],\n",
       "\n",
       "        [[0.82333536, 0.94785634],\n",
       "         [0.94436293, 0.91487463]]]])"
      ]
     },
     "execution_count": 90,
     "metadata": {},
     "output_type": "execute_result"
    }
   ],
   "source": [
    "N, C, H, W=x.shape\n",
    "out_h=int(1+(H-pool_h)/stride)\n",
    "out_w=int(1+(W-pool_w)/stride)\n",
    "\n",
    "out.reshape(N, out_h, out_w, C).transpose(0,3,1,2)"
   ]
  },
  {
   "cell_type": "markdown",
   "metadata": {},
   "source": [
    "### 예시(데이터가 2개 이상일 때)"
   ]
  },
  {
   "cell_type": "code",
   "execution_count": 92,
   "metadata": {},
   "outputs": [
    {
     "name": "stdout",
     "output_type": "stream",
     "text": [
      "(8, 12)\n"
     ]
    }
   ],
   "source": [
    "x=np.random.rand(2,3,3,3)\n",
    "col=im2col(x, 2, 2, stride=1, pad=0)\n",
    "print(col.shape)"
   ]
  },
  {
   "cell_type": "code",
   "execution_count": 93,
   "metadata": {},
   "outputs": [
    {
     "name": "stdout",
     "output_type": "stream",
     "text": [
      "[[0.92869297 0.16103981 0.95985401 0.08268901 0.93326146 0.02861156\n",
      "  0.23230952 0.18765969 0.44231087 0.31210996 0.18018497 0.12906008]\n",
      " [0.16103981 0.70971971 0.08268901 0.34979556 0.02861156 0.93748953\n",
      "  0.18765969 0.41440896 0.31210996 0.16967107 0.12906008 0.01136503]\n",
      " [0.95985401 0.08268901 0.36051413 0.49123755 0.23230952 0.18765969\n",
      "  0.01893166 0.75847059 0.18018497 0.12906008 0.73052049 0.67632707]\n",
      " [0.08268901 0.34979556 0.49123755 0.33852637 0.18765969 0.41440896\n",
      "  0.75847059 0.5909359  0.12906008 0.01136503 0.67632707 0.71105064]\n",
      " [0.86033696 0.15524344 0.65447834 0.54414173 0.91674629 0.33820164\n",
      "  0.16121077 0.13588151 0.01897979 0.45067715 0.50486246 0.34081423]\n",
      " [0.15524344 0.12462701 0.54414173 0.18445113 0.33820164 0.09543932\n",
      "  0.13588151 0.25504126 0.45067715 0.66698589 0.34081423 0.61396731]\n",
      " [0.65447834 0.54414173 0.76662866 0.54929467 0.16121077 0.13588151\n",
      "  0.29391179 0.97403178 0.50486246 0.34081423 0.47391805 0.53326366]\n",
      " [0.54414173 0.18445113 0.54929467 0.18572769 0.13588151 0.25504126\n",
      "  0.97403178 0.41996144 0.34081423 0.61396731 0.53326366 0.51412796]]\n"
     ]
    }
   ],
   "source": [
    "print(col)"
   ]
  },
  {
   "cell_type": "code",
   "execution_count": 94,
   "metadata": {},
   "outputs": [
    {
     "name": "stdout",
     "output_type": "stream",
     "text": [
      "(24, 4)\n"
     ]
    }
   ],
   "source": [
    "w=np.random.rand(2,3,2,2) #FN=2, N=3 H=2, W=2\n",
    "pool_h=2\n",
    "pool_w=2\n",
    "stride=1\n",
    "pad=0\n",
    "col2=col.reshape(-1, pool_h*pool_w)\n",
    "print(col2.shape)"
   ]
  },
  {
   "cell_type": "code",
   "execution_count": 95,
   "metadata": {},
   "outputs": [
    {
     "name": "stdout",
     "output_type": "stream",
     "text": [
      "[[0.92869297 0.16103981 0.95985401 0.08268901]\n",
      " [0.93326146 0.02861156 0.23230952 0.18765969]\n",
      " [0.44231087 0.31210996 0.18018497 0.12906008]\n",
      " [0.16103981 0.70971971 0.08268901 0.34979556]\n",
      " [0.02861156 0.93748953 0.18765969 0.41440896]\n",
      " [0.31210996 0.16967107 0.12906008 0.01136503]\n",
      " [0.95985401 0.08268901 0.36051413 0.49123755]\n",
      " [0.23230952 0.18765969 0.01893166 0.75847059]\n",
      " [0.18018497 0.12906008 0.73052049 0.67632707]\n",
      " [0.08268901 0.34979556 0.49123755 0.33852637]\n",
      " [0.18765969 0.41440896 0.75847059 0.5909359 ]\n",
      " [0.12906008 0.01136503 0.67632707 0.71105064]\n",
      " [0.86033696 0.15524344 0.65447834 0.54414173]\n",
      " [0.91674629 0.33820164 0.16121077 0.13588151]\n",
      " [0.01897979 0.45067715 0.50486246 0.34081423]\n",
      " [0.15524344 0.12462701 0.54414173 0.18445113]\n",
      " [0.33820164 0.09543932 0.13588151 0.25504126]\n",
      " [0.45067715 0.66698589 0.34081423 0.61396731]\n",
      " [0.65447834 0.54414173 0.76662866 0.54929467]\n",
      " [0.16121077 0.13588151 0.29391179 0.97403178]\n",
      " [0.50486246 0.34081423 0.47391805 0.53326366]\n",
      " [0.54414173 0.18445113 0.54929467 0.18572769]\n",
      " [0.13588151 0.25504126 0.97403178 0.41996144]\n",
      " [0.34081423 0.61396731 0.53326366 0.51412796]]\n"
     ]
    }
   ],
   "source": [
    "print(col2)"
   ]
  },
  {
   "cell_type": "code",
   "execution_count": 96,
   "metadata": {},
   "outputs": [
    {
     "name": "stdout",
     "output_type": "stream",
     "text": [
      "(24,)\n",
      "[0.95985401 0.93326146 0.44231087 0.70971971 0.93748953 0.31210996\n",
      " 0.95985401 0.75847059 0.73052049 0.49123755 0.75847059 0.71105064\n",
      " 0.86033696 0.91674629 0.50486246 0.54414173 0.33820164 0.66698589\n",
      " 0.76662866 0.97403178 0.53326366 0.54929467 0.97403178 0.61396731]\n"
     ]
    }
   ],
   "source": [
    "out=np.max(col2, axis=1)\n",
    "print(out.shape)\n",
    "print(out)"
   ]
  },
  {
   "cell_type": "code",
   "execution_count": 97,
   "metadata": {},
   "outputs": [
    {
     "data": {
      "text/plain": [
       "array([[[[0.95985401, 0.70971971],\n",
       "         [0.95985401, 0.49123755]],\n",
       "\n",
       "        [[0.93326146, 0.93748953],\n",
       "         [0.75847059, 0.75847059]],\n",
       "\n",
       "        [[0.44231087, 0.31210996],\n",
       "         [0.73052049, 0.71105064]]],\n",
       "\n",
       "\n",
       "       [[[0.86033696, 0.54414173],\n",
       "         [0.76662866, 0.54929467]],\n",
       "\n",
       "        [[0.91674629, 0.33820164],\n",
       "         [0.97403178, 0.97403178]],\n",
       "\n",
       "        [[0.50486246, 0.66698589],\n",
       "         [0.53326366, 0.61396731]]]])"
      ]
     },
     "execution_count": 97,
     "metadata": {},
     "output_type": "execute_result"
    }
   ],
   "source": [
    "N, C, H, W=x.shape\n",
    "out_h=int(1+(H-pool_h)/stride)\n",
    "out_w=int(1+(W-pool_w)/stride)\n",
    "\n",
    "out.reshape(N, out_h, out_w, C).transpose(0,3,1,2)"
   ]
  }
 ],
 "metadata": {
  "kernelspec": {
   "display_name": "Python 3",
   "language": "python",
   "name": "python3"
  },
  "language_info": {
   "codemirror_mode": {
    "name": "ipython",
    "version": 3
   },
   "file_extension": ".py",
   "mimetype": "text/x-python",
   "name": "python",
   "nbconvert_exporter": "python",
   "pygments_lexer": "ipython3",
   "version": "3.7.7"
  }
 },
 "nbformat": 4,
 "nbformat_minor": 4
}
